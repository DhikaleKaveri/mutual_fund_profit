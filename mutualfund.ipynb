{
 "cells": [
  {
   "cell_type": "code",
   "execution_count": 1,
   "id": "e9469ae9",
   "metadata": {},
   "outputs": [],
   "source": [
    "import requests\n",
    "from datetime import datetime, timedelta\n",
    "from fastapi import FastAPI, Query"
   ]
  },
  {
   "cell_type": "code",
   "execution_count": 2,
   "id": "a026133d",
   "metadata": {},
   "outputs": [],
   "source": [
    "app = FastAPI()"
   ]
  },
  {
   "cell_type": "code",
   "execution_count": 3,
   "id": "00fa74d2",
   "metadata": {},
   "outputs": [],
   "source": [
    "def nav(data, date):\n",
    "    for val in data:\n",
    "        if val['date'] == date:\n",
    "            return val['nav']\n",
    "    return None\n"
   ]
  },
  {
   "cell_type": "code",
   "execution_count": 4,
   "id": "4be64e3d",
   "metadata": {},
   "outputs": [],
   "source": [
    "def calculate_profit(scheme_code, start_date, end_date, capital=1000000.0):\n",
    "    \n",
    "    url = f\"https://api.mfapi.in/mf/{scheme_code}\"\n",
    "    response = requests.get(url)\n",
    "    data = response.json()['data']\n",
    "    nav_val1 = nav(data, start_date)\n",
    "    nav_val2 = nav(data, end_date)\n",
    "    \n",
    "    start = datetime.strptime(start_date, '%d-%m-%Y')\n",
    "    end = datetime.strptime(end_date, '%d-%m-%Y')\n",
    "    while nav_val1 is None or nav_val2 is None:\n",
    "        if nav_val1 is None:\n",
    "            start += timedelta(days=1)\n",
    "            nav_val1 = nav(data, start.strftime('%d-%m-%Y'))\n",
    "        else:\n",
    "            end -= timedelta(days=1)\n",
    "            nav_val2 = nav(data, end.strftime('%d-%m-%Y'))    \n",
    "    \n",
    "    units_allotted = capital / float(nav_val1)\n",
    "    value_redemption = units_allotted * float(nav_val2)\n",
    "    net_profit = value_redemption - capital\n",
    "    \n",
    "    return net_profit"
   ]
  },
  {
   "cell_type": "code",
   "execution_count": 5,
   "id": "2095e1ba",
   "metadata": {},
   "outputs": [
    {
     "name": "stdout",
     "output_type": "stream",
     "text": [
      "Net Profit for mutual fund investment: 14939.75\n"
     ]
    }
   ],
   "source": [
    "scheme_code = \"101206\"\n",
    "start_date = \"26-07-2023\"\n",
    "end_date = \"18-10-2023\"\n",
    "investment = 1000000.0\n",
    "profit = calculate_profit(scheme_code, start_date, end_date,investment)\n",
    "print(f\"Net Profit for mutual fund investment: {profit:.2f}\")"
   ]
  },
  {
   "cell_type": "code",
   "execution_count": 6,
   "id": "16a686f6",
   "metadata": {},
   "outputs": [],
   "source": [
    "@app.get(\"/profit\")\n",
    "async def get_profit(scheme_code: str = Query(..., title=\"Scheme Code\"),\n",
    "               start_date: str = Query(..., title=\"Start Date (dd-mm-yyyy)\"),\n",
    "               end_date: str = Query(..., title=\"End Date (dd-mm-yyyy)\"),\n",
    "               capital: float = Query(1000000.0, title=\"Initial Investment\")):\n",
    "    try:\n",
    "        profit = calculate_profit(scheme_code, start_date, end_date, capital)\n",
    "        profit=round(profit,2)\n",
    "        return {\"net_profit\": profit}\n",
    "    except Exception as e:\n",
    "        return {\"error\": str(e)}"
   ]
  },
  {
   "cell_type": "code",
   "execution_count": null,
   "id": "a3e1b345",
   "metadata": {},
   "outputs": [],
   "source": []
  }
 ],
 "metadata": {
  "kernelspec": {
   "display_name": "Python 3 (ipykernel)",
   "language": "python",
   "name": "python3"
  },
  "language_info": {
   "codemirror_mode": {
    "name": "ipython",
    "version": 3
   },
   "file_extension": ".py",
   "mimetype": "text/x-python",
   "name": "python",
   "nbconvert_exporter": "python",
   "pygments_lexer": "ipython3",
   "version": "3.9.7"
  }
 },
 "nbformat": 4,
 "nbformat_minor": 5
}
